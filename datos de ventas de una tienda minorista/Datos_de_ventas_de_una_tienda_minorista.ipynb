{
  "nbformat": 4,
  "nbformat_minor": 0,
  "metadata": {
    "colab": {
      "provenance": []
    },
    "kernelspec": {
      "name": "python3",
      "display_name": "Python 3"
    },
    "language_info": {
      "name": "python"
    }
  },
  "cells": [
    {
      "cell_type": "markdown",
      "source": [
        "# **Datos de ventas de una tienda minorista**\n",
        "\n",
        "Supongamos que tienes un archivo CSV llamado \"sales.csv\" que contiene datos de ventas. Puedes cargar y analizar estos datos con Pandas.\n",
        "\n"
      ],
      "metadata": {
        "id": "tPBrI-6cC7vs"
      }
    },
    {
      "cell_type": "code",
      "source": [
        "pip install pandas"
      ],
      "metadata": {
        "colab": {
          "base_uri": "https://localhost:8080/"
        },
        "id": "6a7UVPDVDkS8",
        "outputId": "9ca090cb-ff2e-4429-d011-b4ca6741033a"
      },
      "execution_count": 1,
      "outputs": [
        {
          "output_type": "stream",
          "name": "stdout",
          "text": [
            "Requirement already satisfied: pandas in /usr/local/lib/python3.10/dist-packages (1.5.3)\n",
            "Requirement already satisfied: python-dateutil>=2.8.1 in /usr/local/lib/python3.10/dist-packages (from pandas) (2.8.2)\n",
            "Requirement already satisfied: pytz>=2020.1 in /usr/local/lib/python3.10/dist-packages (from pandas) (2023.3.post1)\n",
            "Requirement already satisfied: numpy>=1.21.0 in /usr/local/lib/python3.10/dist-packages (from pandas) (1.23.5)\n",
            "Requirement already satisfied: six>=1.5 in /usr/local/lib/python3.10/dist-packages (from python-dateutil>=2.8.1->pandas) (1.16.0)\n"
          ]
        }
      ]
    },
    {
      "cell_type": "code",
      "execution_count": 3,
      "metadata": {
        "colab": {
          "base_uri": "https://localhost:8080/"
        },
        "id": "WVPU8HHcC2EO",
        "outputId": "b8249e34-d160-4205-c99b-db5a30e856da"
      },
      "outputs": [
        {
          "output_type": "stream",
          "name": "stdout",
          "text": [
            "        Fecha    Producto  Ventas  Precio\n",
            "0  2023-01-01  Producto_A     100    10.0\n",
            "1  2023-01-02  Producto_B     150    15.0\n",
            "2  2023-01-03  Producto_A      75    10.0\n",
            "3  2023-01-04  Producto_C     120     8.0\n",
            "Ventas totales: 445\n",
            "Precio promedio: 10.75\n",
            "Producto más vendido: Producto_A\n",
            "Ventas de Producto A:\n",
            "        Fecha    Producto  Ventas  Precio\n",
            "0  2023-01-01  Producto_A     100    10.0\n",
            "2  2023-01-03  Producto_A      75    10.0\n"
          ]
        }
      ],
      "source": [
        "import pandas as pd\n",
        "\n",
        "# Cargar datos desde el archivo CSV\n",
        "df = pd.read_csv(\"sales.csv\")\n",
        "\n",
        "# Mostrar las primeras filas del DataFrame\n",
        "print(df.head())\n",
        "\n",
        "# Calcular la suma de las ventas totales\n",
        "total_ventas = df['Ventas'].sum()\n",
        "print(\"Ventas totales:\", total_ventas)\n",
        "\n",
        "# Calcular el promedio de precio de productos vendidos\n",
        "precio_promedio = df['Precio'].mean()\n",
        "print(\"Precio promedio:\", precio_promedio)\n",
        "\n",
        "# Encontrar el producto más vendido\n",
        "producto_mas_vendido = df['Producto'].value_counts().idxmax()\n",
        "print(\"Producto más vendido:\", producto_mas_vendido)\n",
        "\n",
        "# Filtrar datos para obtener ventas de un producto específico\n",
        "ventas_producto_A = df[df['Producto'] == 'Producto_A']\n",
        "print(\"Ventas de Producto A:\")\n",
        "print(ventas_producto_A)\n",
        "\n",
        "# Guardar los resultados en un nuevo archivo CSV\n",
        "df.to_csv(\"resultados.csv\", index=False)"
      ]
    },
    {
      "cell_type": "markdown",
      "source": [
        "## Gráficos de barras"
      ],
      "metadata": {
        "id": "92-vNapcEOEF"
      }
    },
    {
      "cell_type": "code",
      "source": [
        "pip install matplotlib"
      ],
      "metadata": {
        "colab": {
          "base_uri": "https://localhost:8080/"
        },
        "id": "gA-Xho-5EQYC",
        "outputId": "92f38bae-22c1-438f-c304-5d2faab20597"
      },
      "execution_count": 4,
      "outputs": [
        {
          "output_type": "stream",
          "name": "stdout",
          "text": [
            "Requirement already satisfied: matplotlib in /usr/local/lib/python3.10/dist-packages (3.7.1)\n",
            "Requirement already satisfied: contourpy>=1.0.1 in /usr/local/lib/python3.10/dist-packages (from matplotlib) (1.1.1)\n",
            "Requirement already satisfied: cycler>=0.10 in /usr/local/lib/python3.10/dist-packages (from matplotlib) (0.12.1)\n",
            "Requirement already satisfied: fonttools>=4.22.0 in /usr/local/lib/python3.10/dist-packages (from matplotlib) (4.43.1)\n",
            "Requirement already satisfied: kiwisolver>=1.0.1 in /usr/local/lib/python3.10/dist-packages (from matplotlib) (1.4.5)\n",
            "Requirement already satisfied: numpy>=1.20 in /usr/local/lib/python3.10/dist-packages (from matplotlib) (1.23.5)\n",
            "Requirement already satisfied: packaging>=20.0 in /usr/local/lib/python3.10/dist-packages (from matplotlib) (23.2)\n",
            "Requirement already satisfied: pillow>=6.2.0 in /usr/local/lib/python3.10/dist-packages (from matplotlib) (9.4.0)\n",
            "Requirement already satisfied: pyparsing>=2.3.1 in /usr/local/lib/python3.10/dist-packages (from matplotlib) (3.1.1)\n",
            "Requirement already satisfied: python-dateutil>=2.7 in /usr/local/lib/python3.10/dist-packages (from matplotlib) (2.8.2)\n",
            "Requirement already satisfied: six>=1.5 in /usr/local/lib/python3.10/dist-packages (from python-dateutil>=2.7->matplotlib) (1.16.0)\n"
          ]
        }
      ]
    },
    {
      "cell_type": "code",
      "source": [
        "import pandas as pd\n",
        "import matplotlib.pyplot as plt\n",
        "\n",
        "# Cargar datos desde el archivo CSV\n",
        "df = pd.read_csv(\"sales.csv\")\n",
        "\n",
        "# Agrupar las ventas por producto y calcular la suma de ventas para cada producto\n",
        "ventas_por_producto = df.groupby('Producto')['Ventas'].sum().reset_index()\n",
        "\n",
        "# Crear un gráfico de barras\n",
        "plt.figure(figsize=(10, 6))\n",
        "plt.bar(ventas_por_producto['Producto'], ventas_por_producto['Ventas'], color='skyblue')\n",
        "plt.xlabel('Producto')\n",
        "plt.ylabel('Ventas')\n",
        "plt.title('Ventas por Producto')\n",
        "plt.xticks(rotation=45)\n",
        "plt.show()"
      ],
      "metadata": {
        "colab": {
          "base_uri": "https://localhost:8080/",
          "height": 615
        },
        "id": "6tbF53V9EVAY",
        "outputId": "d50e1d09-09ff-43d9-9084-9c8aed258521"
      },
      "execution_count": 5,
      "outputs": [
        {
          "output_type": "display_data",
          "data": {
            "text/plain": [
              "<Figure size 1000x600 with 1 Axes>"
            ],
            "image/png": "[encoded data removed]"
          },
          "metadata": {}
        }
      ]
    },
    {
      "cell_type": "markdown",
      "source": [
        "Este código carga los datos de ventas desde el archivo CSV, luego agrupa las ventas por producto y calcula la suma de las ventas para cada producto. Luego, crea un gráfico de barras que muestra las ventas por producto."
      ],
      "metadata": {
        "id": "vhZpF-eqIZnt"
      }
    }
  ]
}